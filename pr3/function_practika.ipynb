{
 "cells": [
  {
   "cell_type": "markdown",
   "metadata": {},
   "source": [
    "Вы работаете секретарем и вам постоянно приходят различные документы. Вы должны быть очень внимательны, чтобы не потерять ни один документ. Каталог документов хранится в следующем виде:"
   ]
  },
  {
   "cell_type": "code",
   "execution_count": 1,
   "metadata": {},
   "outputs": [],
   "source": [
    "documents = [\n",
    "    {'type': 'passport', 'number': '2207 876234', 'name': 'Василий Гупкин'},\n",
    "    {'type': 'invoice', 'number': '11-2', 'name': 'Геннадий Покемонов'},\n",
    "    {'type': 'insurance', 'number': '10006', 'name': 'Аристарх Павлов'}\n",
    "]"
   ]
  },
  {
   "cell_type": "code",
   "execution_count": 34,
   "metadata": {},
   "outputs": [],
   "source": [
    "def print_documents(documents):\n",
    "    for doc in documents:\n",
    "        print(doc)"
   ]
  },
  {
   "cell_type": "markdown",
   "metadata": {},
   "source": [
    "Перечень полок, на которых находятся документы хранится в следующем виде:"
   ]
  },
  {
   "cell_type": "code",
   "execution_count": 2,
   "metadata": {},
   "outputs": [],
   "source": [
    "directories = {\n",
    "    '1': ['2207 876234', '11-2'],\n",
    "    '2': ['10006'],\n",
    "    '3': []\n",
    "}"
   ]
  },
  {
   "cell_type": "code",
   "execution_count": 40,
   "metadata": {},
   "outputs": [],
   "source": [
    "def print_directories(directories):\n",
    "    for key,value in directories.items():\n",
    "        print(key,value)"
   ]
  },
  {
   "cell_type": "markdown",
   "metadata": {},
   "source": [
    "Необходимо реализовать пользовательские команды (внимание! это не название функций, которые должны быть выразительными, а команды, которые вводит пользователь, чтобы получить необходимый результат):\n",
    "\n",
    "* p – people – команда, которая спросит номер документа и выведет имя человека, которому он принадлежит;\n",
    "* s – shelf – команда, которая спросит номер документа и выведет номер полки, на которой он находится\n",
    "Правильно обработайте ситуации, когда пользователь будет вводить несуществующий документ.\n",
    "* l – list – команда, которая выведет список всех документов в формате\n",
    "**passport \"2207 876234\" \"Василий Гупкин\"**\n",
    "* as – add shelf – команда, которая спросит номер новой полки и добавит ее в перечень. Предусмотрите случай, когда пользователь добавляет полку, которая уже существует.\n",
    "* d – delete – команда, которая спросит номер документа и удалит его из каталога и из перечня полок. Предусмотрите сценарий, когда пользователь вводит несуществующий документ;\n",
    "* m – move – команда, которая спросит номер документа и целевую полку и переместит его с текущей полки на целевую. Корректно обработайте кейсы, когда пользователь пытается переместить несуществующий документ или переместить документ на несуществующую полку;\n",
    "*  add – команда, которая добавит новый документ в каталог и в перечень полок, спросив его номер, тип, имя владельца и номер полки, на котором он будет храниться. Корректно обработайте ситуацию, когда пользователь будет пытаться добавить документ на несуществующую полку."
   ]
  },
  {
   "cell_type": "code",
   "execution_count": 19,
   "metadata": {},
   "outputs": [
    {
     "name": "stdout",
     "output_type": "stream",
     "text": [
      "Введите командуd\n",
      "Каталог до удаления\n",
      "Документы\n",
      "{'type': 'passport', 'number': '2207 876234', 'name': 'Василий Гупкин'}\n",
      "{'type': 'invoice', 'number': '11-2', 'name': 'Геннадий Покемонов'}\n",
      "{'type': 'insurance', 'number': '10006', 'name': 'Аристарх Павлов'}\n",
      "Полки\n",
      "1 ['2207 876234', '11-2']\n",
      "2 ['10006']\n",
      "3 []\n",
      "Введите номер документа 10006\n",
      "Каталог после удаления\n",
      "Документы\n",
      "{'type': 'passport', 'number': '2207 876234', 'name': 'Василий Гупкин'}\n",
      "{'type': 'invoice', 'number': '11-2', 'name': 'Геннадий Покемонов'}\n",
      "Полки\n",
      "1 ['2207 876234', '11-2']\n",
      "2 []\n",
      "3 []\n"
     ]
    }
   ],
   "source": [
    "documents = [\n",
    "    {'type': 'passport', 'number': '2207 876234', 'name': 'Василий Гупкин'},\n",
    "    {'type': 'invoice', 'number': '11-2', 'name': 'Геннадий Покемонов'},\n",
    "    {'type': 'insurance', 'number': '10006', 'name': 'Аристарх Павлов'}\n",
    "]\n",
    "\n",
    "directories = {\n",
    "    '1': ['2207 876234', '11-2'],\n",
    "    '2': ['10006'],\n",
    "    '3': []\n",
    "}\n",
    "\n",
    "def print_documents(documents):\n",
    "    for doc in documents:\n",
    "        print(doc)\n",
    "\n",
    "def print_directories(directories):\n",
    "    for key,value in directories.items():\n",
    "        print(key,value)        \n",
    "        \n",
    "def print_people(documents):\n",
    "    num = input('Введите номер документа ')\n",
    "    result = ''\n",
    "    for doc in documents:\n",
    "        if doc['number'] == num:\n",
    "            print(doc['name'])\n",
    "            \n",
    "def print_shelf(documents):\n",
    "    num = input('Введите номер документа ')\n",
    "    for key, value in directories.items():\n",
    "        for elem in value:\n",
    "            if (elem == num):\n",
    "                print(key)\n",
    "\n",
    "def print_list(documents):\n",
    "    for doc in documents:\n",
    "        print('{}\"{}\"\"{}\"'.format(doc['type'], doc['number'], doc['name']))\n",
    "        \n",
    "def add_shelf(documents):\n",
    "    num = input('Введите номер полки ')\n",
    "    for key in directories.keys():\n",
    "        if (num != key):\n",
    "            directories[num] = []\n",
    "            break\n",
    "\n",
    "def delete(documents, directories):\n",
    "    print('Каталог до удаления')\n",
    "    print('Документы')\n",
    "    print_documents(documents)\n",
    "    print('Полки')\n",
    "    print_directories(directories)\n",
    "    num = input('Введите номер документа ')\n",
    "    result = ''\n",
    "    i = 0\n",
    "    deleting = 0\n",
    "    for doc in documents:\n",
    "        if doc['number'] == num:\n",
    "            documents.pop(i)\n",
    "            deleting = 1\n",
    "        else:\n",
    "            i += 1\n",
    "    if deleting == 0:\n",
    "        print(f'Документа не существует')\n",
    "    else:\n",
    "        del_shelf = ''\n",
    "    for key,directori in directories.items():\n",
    "        if num in directori:\n",
    "            del_shelf = key\n",
    "            directories[del_shelf].remove(num)\n",
    "    print('Каталог после удаления')\n",
    "    print('Документы')\n",
    "    print_documents(documents)\n",
    "    print('Полки')\n",
    "    print_directories(directories)\n",
    "    \n",
    "def main():\n",
    "    while True:\n",
    "        user_input = input('Введите команду')\n",
    "        if user_input == 'p':\n",
    "            print_people(documents)\n",
    "        if user_input == 's':\n",
    "            print_shelf(documents)\n",
    "        if user_input == 'l':\n",
    "            print_list(documents)\n",
    "        if user_input == 'a':\n",
    "            add_shelf(documents)\n",
    "        if user_input == 'd':\n",
    "            delete(documents, directories)        \n",
    "        break\n",
    "        \n",
    "main()\n"
   ]
  }
 ],
 "metadata": {
  "kernelspec": {
   "display_name": "Python 3",
   "language": "python",
   "name": "python3"
  },
  "language_info": {
   "codemirror_mode": {
    "name": "ipython",
    "version": 3
   },
   "file_extension": ".py",
   "mimetype": "text/x-python",
   "name": "python",
   "nbconvert_exporter": "python",
   "pygments_lexer": "ipython3",
   "version": "3.8.3"
  }
 },
 "nbformat": 4,
 "nbformat_minor": 4
}
