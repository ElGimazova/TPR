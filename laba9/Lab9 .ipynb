{
 "cells": [
  {
   "cell_type": "markdown",
   "metadata": {},
   "source": [
    "Будем парсить страницу со свежеми новостям на habr.com/ru/all/.\n",
    "\n",
    "Вам необходимо собирать только те статьи, в которых встречается хотя бы одно требуемое ключевое слово. Эти слова определяем в начале кода в переменной, например:\n",
    "\n",
    "KEYWORDS = ['python', 'парсинг']\n",
    "\n",
    "Поиск вести по всей доступной preview-информации (это информация, доступная непосредственно с текущей страницы).\n",
    "\n",
    "В итоге должен формироваться датафрейм вида: <дата> - <заголовок> - <ссылка>"
   ]
  },
  {
   "cell_type": "code",
   "execution_count": 3,
   "metadata": {},
   "outputs": [],
   "source": [
    "import pandas as pd\n",
    "import requests\n",
    "from bs4 import BeautifulSoup\n",
    "KEYWORDS = ['javascript', 'linux', 'физика', 'css']\n",
    "URL = 'https://habr.com/ru/all/'\n",
    "res=requests.get(URL)\n",
    "soup = BeautifulSoup(res.text, 'html.parser')\n",
    "posts = soup.find_all('article', class_='post')"
   ]
  },
  {
   "cell_type": "code",
   "execution_count": 4,
   "metadata": {},
   "outputs": [
    {
     "data": {
      "text/html": [
       "<div>\n",
       "<style scoped>\n",
       "    .dataframe tbody tr th:only-of-type {\n",
       "        vertical-align: middle;\n",
       "    }\n",
       "\n",
       "    .dataframe tbody tr th {\n",
       "        vertical-align: top;\n",
       "    }\n",
       "\n",
       "    .dataframe thead th {\n",
       "        text-align: right;\n",
       "    }\n",
       "</style>\n",
       "<table border=\"1\" class=\"dataframe\">\n",
       "  <thead>\n",
       "    <tr style=\"text-align: right;\">\n",
       "      <th></th>\n",
       "      <th>Дата</th>\n",
       "      <th>Заголовок</th>\n",
       "      <th>Ссылка</th>\n",
       "    </tr>\n",
       "  </thead>\n",
       "  <tbody>\n",
       "    <tr>\n",
       "      <th>0</th>\n",
       "      <td>сегодня в 00:44</td>\n",
       "      <td>CSS var в rgba или удобное использование цвето...</td>\n",
       "      <td>https://habr.com/ru/post/533084/</td>\n",
       "    </tr>\n",
       "    <tr>\n",
       "      <th>1</th>\n",
       "      <td>сегодня в 00:36</td>\n",
       "      <td>Как древние шумеры повлияли на значение скорос...</td>\n",
       "      <td>https://habr.com/ru/post/532758/</td>\n",
       "    </tr>\n",
       "    <tr>\n",
       "      <th>2</th>\n",
       "      <td>вчера в 19:13</td>\n",
       "      <td>Превращаем рекурсию в цикл</td>\n",
       "      <td>https://habr.com/ru/post/533034/</td>\n",
       "    </tr>\n",
       "  </tbody>\n",
       "</table>\n",
       "</div>"
      ],
      "text/plain": [
       "              Дата                                          Заголовок  \\\n",
       "0  сегодня в 00:44  CSS var в rgba или удобное использование цвето...   \n",
       "1  сегодня в 00:36  Как древние шумеры повлияли на значение скорос...   \n",
       "2    вчера в 19:13                         Превращаем рекурсию в цикл   \n",
       "\n",
       "                             Ссылка  \n",
       "0  https://habr.com/ru/post/533084/  \n",
       "1  https://habr.com/ru/post/532758/  \n",
       "2  https://habr.com/ru/post/533034/  "
      ]
     },
     "execution_count": 4,
     "metadata": {},
     "output_type": "execute_result"
    }
   ],
   "source": [
    "data=pd.DataFrame({'Дата':[],'Заголовок':[],'Ссылка':[]})\n",
    "count=0\n",
    "for post in posts:\n",
    "    post_id = post.parent.attrs.get('id')\n",
    "    if not post_id:\n",
    "        continue\n",
    "    post_id = int(post_id.split('_')[-1])\n",
    "    hubs = post.find_all('a', class_='hub-link')\n",
    "    for hub in hubs:\n",
    "            hub_lower = hub.text.lower()\n",
    "            if any([hub_lower in desired for desired in KEYWORDS]):\n",
    "                title_element = post.find('a', class_='post__title_link')\n",
    "                time =post.find('span',class_='post__time')\n",
    "                data.loc[count]=[time.text,title_element.text, title_element.attrs.get('href')]\n",
    "                count+=1\n",
    "data"
   ]
  },
  {
   "cell_type": "code",
   "execution_count": null,
   "metadata": {},
   "outputs": [],
   "source": []
  }
 ],
 "metadata": {
  "kernelspec": {
   "display_name": "Python 3",
   "language": "python",
   "name": "python3"
  },
  "language_info": {
   "codemirror_mode": {
    "name": "ipython",
    "version": 3
   },
   "file_extension": ".py",
   "mimetype": "text/x-python",
   "name": "python",
   "nbconvert_exporter": "python",
   "pygments_lexer": "ipython3",
   "version": "3.8.3"
  }
 },
 "nbformat": 4,
 "nbformat_minor": 4
}
